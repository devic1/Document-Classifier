{
  "nbformat": 4,
  "nbformat_minor": 0,
  "metadata": {
    "colab": {
      "provenance": []
    },
    "kernelspec": {
      "name": "python3",
      "display_name": "Python 3"
    },
    "language_info": {
      "name": "python"
    }
  },
  "cells": [
    {
      "cell_type": "markdown",
      "source": [
        "# Debugging Pytorch\n",
        "Debug 1:\n",
        "  The Outputs recieved From the Model is With datatype Float 32 So Converting the labels to that same datatype Would resolve the problem\n",
        "Debug 2:\n",
        "  While passing assert variable The model expects another batch dimension \n",
        "  Adding another batch to it that is Unsqueezing the tensor variable resolves the Probelem\n"
      ],
      "metadata": {
        "id": "dDt1J1oENwBM"
      }
    },
    {
      "cell_type": "code",
      "execution_count": 32,
      "metadata": {
        "colab": {
          "base_uri": "https://localhost:8080/"
        },
        "id": "75MmdiBxKmXo",
        "outputId": "56bd5368-8484-4b31-aa2b-a000f6fe5403"
      },
      "outputs": [
        {
          "output_type": "stream",
          "name": "stdout",
          "text": [
            "Overwriting main.py\n"
          ]
        }
      ],
      "source": [
        "%%writefile main.py\n",
        "import torch\n",
        "import torch.nn as nn\n",
        "import torch.optim as optim\n",
        "import numpy as np\n",
        "import torch\n",
        "torch.manual_seed(0)\n",
        "np.random.seed(0)\n",
        "def c2f(x):\n",
        "    return 1.8*x + 32\n",
        "\n",
        "# Define the model architecture\n",
        "class Net(nn.Module):\n",
        "    def __init__(self):\n",
        "        super(Net, self).__init__()\n",
        "        self.fc1 = nn.Linear(1, 1)\n",
        "\n",
        "    def forward(self, x):\n",
        "        return torch.tanh(self.fc1(x))\n",
        "\n",
        "# Initialize the model and optimizer\n",
        "net = Net()\n",
        "optimizer = optim.SGD(net.parameters(), lr=0.1, momentum=0.9)\n",
        "\n",
        "# Define the loss function\n",
        "criterion = nn.MSELoss()\n",
        "\n",
        "# Generate some random data\n",
        "inputs = torch.randn(100, 1)\n",
        "labels = torch.from_numpy(np.vectorize(c2f)(inputs))\n",
        "# Train the model\n",
        "for i in range(500):\n",
        "    optimizer.zero_grad()\n",
        "    outputs = net(inputs)\n",
        "    loss = criterion(outputs, labels.to(torch.float))\n",
        "    loss.backward()\n",
        "    optimizer.step()\n",
        "    if i % 100 == 0:\n",
        "        print(\"Iteration {}, Loss: {}\".format(i, loss.item()))\n",
        "\n",
        "# Evaluate the model\n",
        "with torch.no_grad():\n",
        "    # Generate some random data\n",
        "    test_inputs = torch.randn(100, 1)\n",
        "    print(test_inputs.shape)\n",
        "    test_labels = torch.from_numpy(np.vectorize(c2f)(test_inputs))\n",
        "    test_outputs = net(test_inputs)\n",
        "    test_loss = criterion(test_outputs, test_labels)\n",
        "    print(\"Test Loss: {}\".format(test_loss.item()))\n",
        "\n",
        "t = torch.tensor([0], dtype=torch.float32)\n",
        "assert c2f(0) == net(t).item(), Exception(\"Model didn't learn the parameters\")"
      ]
    },
    {
      "cell_type": "code",
      "source": [
        "!python3 main.py"
      ],
      "metadata": {
        "colab": {
          "base_uri": "https://localhost:8080/"
        },
        "id": "DU_U-Gd9KtMv",
        "outputId": "c61413e7-6259-47da-cb8c-3cc8f16ff585"
      },
      "execution_count": 33,
      "outputs": [
        {
          "output_type": "stream",
          "name": "stdout",
          "text": [
            "Iteration 0, Loss: 1014.74560546875\n",
            "Iteration 100, Loss: 982.5022583007812\n",
            "Iteration 200, Loss: 982.5022583007812\n",
            "Iteration 300, Loss: 982.5022583007812\n",
            "Iteration 400, Loss: 982.5022583007812\n",
            "torch.Size([100, 1])\n",
            "Test Loss: 974.1410667838649\n",
            "Traceback (most recent call last):\n",
            "  File \"/content/main.py\", line 51, in <module>\n",
            "    assert c2f(0) == net(t).item(), Exception(\"Model didn't learn the parameters\")\n",
            "AssertionError: Model didn't learn the parameters\n"
          ]
        }
      ]
    },
    {
      "cell_type": "code",
      "source": [],
      "metadata": {
        "id": "f4vxcp40N3gi"
      },
      "execution_count": null,
      "outputs": []
    }
  ]
}